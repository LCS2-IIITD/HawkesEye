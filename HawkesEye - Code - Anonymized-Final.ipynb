{
 "cells": [
  {
   "cell_type": "code",
   "execution_count": 1,
   "metadata": {
    "collapsed": true
   },
   "outputs": [],
   "source": [
    "import numpy as np\n",
    "import csv\n",
    "import os\n",
    "import pandas as pd\n",
    "import numpy as np\n",
    "import pickle\n",
    "import json\n",
    "from nltk.corpus import stopwords \n",
    "from nltk.stem.wordnet import WordNetLemmatizer\n",
    "import string\n",
    "import gensim\n",
    "from gensim import corpora,models\n",
    "from gensim.corpora import Dictionary\n",
    "from sklearn.mixture import DPGMM\n",
    "from sklearn.model_selection import train_test_split\n",
    "from sklearn.metrics import classification_report\n",
    "import guidedlda\n"
   ]
  },
  {
   "cell_type": "code",
   "execution_count": 2,
   "metadata": {
    "collapsed": true
   },
   "outputs": [],
   "source": [
    "\n",
    "kcv_list_of_users_anon_path='KCV_list_of_users_anon.pickle'\n",
    "user_to_label_anon_path='user_to_label_anon.pickle'\n",
    "retweet_timelines_anon_path='retweet_timelines_anon.pickle'\n"
   ]
  },
  {
   "cell_type": "code",
   "execution_count": 3,
   "metadata": {
    "collapsed": true
   },
   "outputs": [],
   "source": [
    "\n",
    "with open(kcv_list_of_users_anon_path,'rb') as f:\n",
    "\tKCV_list_of_users_anon=pickle.load(f,encoding='utf-8')\n",
    "    \n",
    "with open(user_to_label_anon_path,'rb') as f:\n",
    "\tuser_to_label_anon=pickle.load(f,encoding='utf-8')\n",
    "    \n",
    "with open(retweet_timelines_anon_path,'rb') as f:\n",
    "\tretweet_timelines=pickle.load(f)\n"
   ]
  },
  {
   "cell_type": "code",
   "execution_count": 4,
   "metadata": {
    "collapsed": true
   },
   "outputs": [],
   "source": [
    "stop = set(stopwords.words('english'))\n",
    "exclude = set(string.punctuation) \n",
    "lemma = WordNetLemmatizer()\n",
    "\n",
    "\n",
    "def clean(doc):\n",
    "    stop_free = \" \".join([i for i in doc.lower().split() if i not in stop])\n",
    "    punc_free = ''.join(ch for ch in stop_free if ch not in exclude)\n",
    "    normalized = [lemma.lemmatize(word) for word in punc_free.split()]\n",
    "    http_free= \" \".join(word for word in normalized if not word.startswith(('http','rt')))\n",
    "    \n",
    "    return http_free"
   ]
  },
  {
   "cell_type": "code",
   "execution_count": 5,
   "metadata": {
    "collapsed": true
   },
   "outputs": [],
   "source": [
    "user_to_docs={}\n",
    "\n",
    "\n",
    "for user_n_label in retweet_timelines:\n",
    "    user,label=user_n_label\n",
    "    retweet_timeline=[tweet['text'] for tweet in retweet_timelines[user_n_label]]\n",
    "    user_to_docs[user]=set(retweet_timeline)\n",
    "\n",
    "# squash docs per user together\n",
    "for user in user_to_docs:\n",
    "    user_to_docs[user]=' '.join([retweet for retweet in list(user_to_docs[user])])\n",
    "\n",
    "            \n",
    "\n"
   ]
  },
  {
   "cell_type": "code",
   "execution_count": 6,
   "metadata": {},
   "outputs": [
    {
     "name": "stdout",
     "output_type": "stream",
     "text": [
      "For genuine :\n",
      "Topic: 0 Word: 0.005*\"wherepond\" + 0.004*\"vaamilynholdo\" + 0.004*\"beserioususa\" + 0.004*\"uber\" + 0.004*\"rhetoric\" + 0.004*\"elastigirl2018\" + 0.004*\"hearing\" + 0.003*\"certain\" + 0.003*\"use\" + 0.003*\"accept\"\n",
      "Topic: 1 Word: 0.007*\"liar\" + 0.005*\"artofthehak\" + 0.005*\"joehanifnyan\" + 0.004*\"elon\" + 0.004*\"tesla\" + 0.004*\"musk\" + 0.004*\"spacex\" + 0.004*\"page\" + 0.003*\"pie\" + 0.003*\"time\"\n",
      "Topic: 2 Word: 0.005*\"✅\" + 0.003*\"friendsversary\" + 0.003*\"celebrated\" + 0.003*\"become\" + 0.003*\"though\" + 0.003*\"tdub909\" + 0.003*\"nancywonderful\" + 0.002*\"breach\" + 0.002*\"decentralized\" + 0.002*\"elonmusk\"\n",
      "Topic: 3 Word: 0.006*\"trx\" + 0.006*\"beebomco\" + 0.005*\"tesla\" + 0.005*\"spacex\" + 0.005*\"elon\" + 0.005*\"musk\" + 0.004*\"page\" + 0.004*\"deletes\" + 0.004*\"tron\" + 0.004*\"movement\"\n",
      "Topic: 4 Word: 0.004*\"joindiaspora\" + 0.003*\"founder\" + 0.003*\"concern\" + 0.003*\"bring\" + 0.003*\"issue\" + 0.002*\"officialjtw\" + 0.002*\"purchased\" + 0.002*\"time\" + 0.002*\"oligarch\" + 0.002*\"wher…\"\n",
      "Topic: 5 Word: 0.005*\"cofounder\" + 0.004*\"whatsapp\" + 0.004*\"magnifieri\" + 0.004*\"know\" + 0.003*\"musk\" + 0.003*\"social\" + 0.003*\"elon\" + 0.003*\"amp\" + 0.003*\"cambridge\" + 0.003*\"mark\"\n",
      "Topic: 6 Word: 0.007*\"qanon\" + 0.004*\"starknightz\" + 0.004*\"greatawakening\" + 0.003*\"potus\" + 0.003*\"deleted\" + 0.003*\"maga\" + 0.002*\"people\" + 0.002*\"everyone\" + 0.002*\"ago\" + 0.002*\"it’s\"\n",
      "Topic: 7 Word: 0.022*\"brianacton\" + 0.013*\"time\" + 0.005*\"elon\" + 0.005*\"tesla\" + 0.004*\"musk\" + 0.004*\"heard\" + 0.004*\"page\" + 0.004*\"recode\" + 0.004*\"founder’s\" + 0.004*\"growing\"\n",
      "Topic: 8 Word: 0.004*\"account\" + 0.003*\"deleted\" + 0.003*\"it’s\" + 0.003*\"zuckerberg\" + 0.003*\"year\" + 0.003*\"mark\" + 0.003*\"puestoloco\" + 0.003*\"delete\" + 0.003*\"day\" + 0.003*\"analytica\"\n",
      "Topic: 9 Word: 0.008*\"stole\" + 0.007*\"sparklesoup45\" + 0.006*\"reminds\" + 0.006*\"f–ks”\" + 0.006*\"julian\" + 0.006*\"“dumb\" + 0.006*\"assange\" + 0.006*\"arizonakayte\" + 0.006*\"🚨🚨🚨\" + 0.005*\"mark\"\n",
      "For fake :\n",
      "Topic: 0 Word: 0.007*\"puestoloco\" + 0.005*\"ian56789\" + 0.005*\"may\" + 0.005*\"facebook\" + 0.005*\"oneself\" + 0.005*\"—\" + 0.005*\"fool\" + 0.005*\"zuckerberg\" + 0.004*\"namrata956\" + 0.004*\"facecrook\"\n",
      "Topic: 1 Word: 0.018*\"trx\" + 0.015*\"tron\" + 0.014*\"activatetron\" + 0.007*\"facebook\" + 0.006*\"✅\" + 0.006*\"decentralized\" + 0.005*\"let’s\" + 0.005*\"cryptovino\" + 0.005*\"justinsuntron\" + 0.004*\"internet\"\n",
      "Topic: 2 Word: 0.009*\"facebook\" + 0.008*\"qanon\" + 0.006*\"starknightz\" + 0.005*\"it’s\" + 0.005*\"warriors4trump\" + 0.005*\"data\" + 0.005*\"time\" + 0.004*\"whatsapp\" + 0.004*\"ibor\" + 0.004*\"amp\"\n",
      "Topic: 3 Word: 0.009*\"facebook\" + 0.007*\"qanon\" + 0.007*\"greatawakening\" + 0.007*\"maga\" + 0.005*\"zuckerberg\" + 0.005*\"delete\" + 0.005*\"mark\" + 0.005*\"youranoncentral\" + 0.005*\"account\" + 0.004*\"cambridge\"\n",
      "Topic: 4 Word: 0.023*\"video\" + 0.021*\"💐mysexygamers\" + 0.021*\"🙏mysexygirls001\" + 0.021*\"➡️follow\" + 0.021*\"kabeerisgod\" + 0.020*\"💋sexyrhearey\" + 0.019*\"❤️sexyvids001\" + 0.019*\"⃣\" + 0.018*\"must\" + 0.017*\"watch\"\n",
      "Topic: 5 Word: 0.018*\"haroonhaider\" + 0.010*\"coa\" + 0.008*\"politician\" + 0.008*\"autographed\" + 0.007*\"signed\" + 0.006*\"jersey\" + 0.006*\"uda\" + 0.006*\"clevelandcavaliers\" + 0.006*\"cambridge\" + 0.005*\"worked\"\n",
      "Topic: 6 Word: 0.007*\"idicenterprise2\" + 0.005*\"whatever\" + 0.005*\"inner\" + 0.005*\"anyoneall\" + 0.004*\"opened\" + 0.004*\"soul\" + 0.004*\"saved\" + 0.004*\"navikasaini\" + 0.004*\"front…\" + 0.004*\"memory\"\n",
      "Topic: 7 Word: 0.007*\"25\" + 0.007*\"written\" + 0.007*\"veda\" + 0.007*\"satsahib17\" + 0.007*\"guru\" + 0.007*\"mantra\" + 0.007*\"incomplete\" + 0.007*\"ie…\" + 0.007*\"elaborate\" + 0.007*\"yajurved\"\n",
      "Topic: 8 Word: 0.013*\"tesla\" + 0.013*\"page\" + 0.013*\"spacex\" + 0.012*\"musk\" + 0.012*\"elon\" + 0.009*\"deletes\" + 0.007*\"remove\" + 0.007*\"daslokeshyadav2\" + 0.007*\"filth\" + 0.007*\"evils…\"\n",
      "Topic: 9 Word: 0.016*\"wherepond\" + 0.006*\"spirituality\" + 0.006*\"life\" + 0.006*\"ahamiltonspirit\" + 0.006*\"antilseema\" + 0.006*\"संतरामपालजीमहाराज\" + 0.005*\"s1a2t3y4p5\" + 0.005*\"ineighborhood\" + 0.004*\"come\" + 0.004*\"towards\"\n"
     ]
    }
   ],
   "source": [
    "\n",
    "# CREATE TOPIC VECTORS VIA LDA\n",
    "num_topics=10\n",
    "\n",
    "def create_LDA(all_docs,num_topics=10):\n",
    "    \n",
    "    num_topics=10\n",
    "\n",
    "\n",
    "    dictionary = corpora.Dictionary(all_docs)\n",
    "    dictionary.filter_extremes(no_below=5, keep_n=3000)\n",
    "\n",
    "\n",
    "    bow_corpus = [dictionary.doc2bow(doc) for doc in all_docs]\n",
    "    tfidf = models.TfidfModel(bow_corpus)\n",
    "    corpus_tfidf = tfidf[bow_corpus]\n",
    "\n",
    "    lda_model_tfidf = gensim.models.LdaMulticore(corpus_tfidf, num_topics=num_topics, id2word=dictionary, passes=5, workers=10)\n",
    "\n",
    "    # print topics created.\n",
    "    for idx, topic in lda_model_tfidf.print_topics(-1):\n",
    "        print('Topic: {} Word: {}'.format(idx, topic))\n",
    "        \n",
    "    return lda_model_tfidf,dictionary\n",
    "        \n",
    "all_docs_genuine=[]\n",
    "all_docs_fake=[]\n",
    "\n",
    "for user in user_to_docs:\n",
    "    clean_doc=clean(user_to_docs[user])\n",
    "    user_to_docs[user]=clean_doc\n",
    "    \n",
    "    if user_to_label_anon[user]==1:\n",
    "        all_docs_genuine.append(clean_doc.split())\n",
    "    elif user_to_label_anon[user]==0:\n",
    "        all_docs_fake.append(clean_doc.split())\n",
    "        \n",
    "        \n",
    "    \n",
    "print(\"For genuine :\")\n",
    "lda_genuine,dict_genuine=create_LDA(all_docs_genuine,num_topics)\n",
    "print(\"For fake :\")\n",
    "lda_fake,dict_fake=create_LDA(all_docs_fake,num_topics)\n",
    "\n"
   ]
  },
  {
   "cell_type": "code",
   "execution_count": 7,
   "metadata": {},
   "outputs": [
    {
     "data": {
      "text/plain": [
       "<Figure size 640x480 with 1 Axes>"
      ]
     },
     "metadata": {},
     "output_type": "display_data"
    }
   ],
   "source": [
    "user_to_topic_vectors={}\n",
    "\n",
    "for key in user_to_docs:\n",
    "    \n",
    "    xg=dict_genuine.doc2bow(user_to_docs[key].split())\n",
    "    xf=dict_fake.doc2bow(user_to_docs[key].split())    \n",
    "\n",
    "    topic_vector_sparse_genuine=lda_genuine.get_document_topics(xg)\n",
    "    topic_vector_sparse_fake=lda_fake.get_document_topics(xf)\n",
    "    \n",
    "    topic_vector=np.zeros(2*num_topics+2)\n",
    "    \n",
    "    for pair in topic_vector_sparse_genuine:\n",
    "        topic_vector[pair[0]]=pair[1]\n",
    "        \n",
    "    for pair in topic_vector_sparse_fake:\n",
    "        topic_vector[num_topics+pair[0]]=pair[1]\n",
    "        \n",
    "    user_to_topic_vectors[key]=topic_vector\n",
    "#     print(user_to_topic_vectors[key])\n",
    "\n",
    "# for user in user\n",
    "def get_timestamp(tweet_creation_time):\n",
    "\t# print tweet_creation_time,\"is creation time\"\n",
    "\tattbs=tweet_creation_time.split(' ')\n",
    "\t# print attbs\n",
    "\tdate_origin=13\n",
    "\tdate=int(attbs[2])\n",
    "\thhmmss=attbs[3].split(':')\n",
    "\thhmmss=[int(val) for val in hhmmss]\n",
    "\t# print date,hhmmss\n",
    "\tminutes_passed=(date-date_origin)*24*60+(hhmmss[0])*60+hhmmss[1]+hhmmss[2]/60.0\n",
    "\treturn minutes_passed\n",
    "\n",
    "from tick.hawkes import HawkesExpKern\n",
    "\n",
    "def get_hawkes_params(timestamps):\n",
    "    decays=0.3\n",
    "    gofit='likelihood'\n",
    "    penalty='l2'\n",
    "    C=1e6\n",
    "    solver='agd'\n",
    "    step=None\n",
    "    tol=1e-05\n",
    "    max_iter=1000;\n",
    "    verbose=False\n",
    "    print_every=10\n",
    "    random_state=0\n",
    "    elastic_net_ratio=0.80\n",
    "\n",
    "#     a_kernel=HawkesExpKern(decays, gofit=gofit, penalty=penalty, C=C, solver=solver, step=step, tol=tol, max_iter=max_iter, verbose=verbose, print_every=print_every, elastic_net_ratio=elastic_net_ratio, random_state=random_state)\n",
    "    a_kernel=HawkesExpKern(decays, gofit=gofit, penalty=penalty,solver=solver, step=step, tol=tol, max_iter=max_iter, verbose=verbose)\n",
    "    a_kernel.fit(timestamps)\n",
    "    \n",
    "    baseline=a_kernel.baseline[0]\n",
    "    adj=a_kernel.adjacency[0][0]\n",
    "#     print(baseline,adj)\n",
    "    return baseline,adj\n",
    "\n",
    "baselines=[]\n",
    "adjs=[]\n",
    "labels=[]\n",
    "lbl2int={'fake':0,'genuine':1}\n",
    "\n",
    "for user_n_label in retweet_timelines:\n",
    "    user,label=user_n_label\n",
    "    retweet_timestamp=np.array([get_timestamp(tweet['created_at']) for tweet in retweet_timelines[user_n_label]])\n",
    "    min_time=np.min(retweet_timestamp)\n",
    "    max_time=np.max(retweet_timestamp)\n",
    "    sorted_time=(np.sort(np.unique((retweet_timestamp-min_time)/max_time)))\n",
    "#     print(sorted_time)\n",
    "    baseline,adj=get_hawkes_params([sorted_time])\n",
    "#     break\n",
    "    baselines.append(baseline)\n",
    "    labels.append(lbl2int[label])\n",
    "    adjs.append(adj)\n",
    "    topic_vector=user_to_topic_vectors[user]\n",
    "    topic_vector[-1]=baseline\n",
    "    topic_vector[-2]=adj\n",
    "    \n",
    "    user_to_topic_vectors[user]=topic_vector\n",
    "    \n",
    "import matplotlib.pyplot as plt\n",
    "# print(labels)\n",
    "#plotting adj/mus\n",
    "plt.scatter(adjs, baselines,s=5,c=labels)\n",
    "plt.show()"
   ]
  },
  {
   "cell_type": "code",
   "execution_count": 8,
   "metadata": {
    "collapsed": true
   },
   "outputs": [],
   "source": [
    "X=[]\n",
    "Y=[]\n",
    "\n",
    "for user in user_to_label_anon:\n",
    "    x=user_to_topic_vectors[user]\n",
    "    y=user_to_label_anon[user]\n",
    "    X.append(x)\n",
    "    Y.append(y)\n",
    "    \n",
    "X=np.array(X)\n",
    "# print(X.shape)\n",
    "Y=np.array(Y)\n",
    "\n",
    "import pickle\n",
    "with open('X.pickle','wb') as f:\n",
    "    pickle.dump(X,f)\n",
    "\n",
    "with open('Y.pickle','wb') as f:\n",
    "    pickle.dump(Y,f)\n",
    "\n",
    "    "
   ]
  },
  {
   "cell_type": "code",
   "execution_count": 9,
   "metadata": {
    "scrolled": true
   },
   "outputs": [
    {
     "name": "stdout",
     "output_type": "stream",
     "text": [
      "(2508, 2)\n",
      "(507, 2)\n"
     ]
    },
    {
     "data": {
      "image/png": "[encoded data removed]",
      "text/plain": [
       "<Figure size 1440x720 with 1 Axes>"
      ]
     },
     "metadata": {},
     "output_type": "display_data"
    }
   ],
   "source": [
    "#Visualize the text topical vectors using tsne\n",
    "from sklearn.manifold import TSNE\n",
    "import matplotlib.pyplot as plt\n",
    "from sklearn.decomposition import PCA\n",
    "\n",
    "\n",
    "tsne_model = TSNE(n_components=2)\n",
    "X_embedded=tsne_model.fit_transform(X)\n",
    "print(X_embedded.shape)\n",
    "# pca = PCA(n_components=2)\n",
    "# X_embedded = pca.fit_transform(X)\n",
    "\n",
    "X_f=X_embedded[np.where(Y==0)]\n",
    "X_g=X_embedded[np.where(Y==1)]\n",
    "\n",
    "print(X_f.shape)\n",
    "plt.figure(figsize=(20,10))\n",
    "plt.scatter(X_g[:500, 0], X_g[:500, 1], c='yellow', s=10, cmap='viridis')\n",
    "plt.scatter(X_f[:, 0], X_f[:, 1], c='blue', s=10, cmap='viridis')\n",
    "\n",
    "# plt.scatter(X_embedded[:, 0], X_embedded[:, 1], c=Y, s=14, cmap='viridis')\n",
    "plt.show()"
   ]
  },
  {
   "cell_type": "code",
   "execution_count": 10,
   "metadata": {},
   "outputs": [
    {
     "name": "stdout",
     "output_type": "stream",
     "text": [
      "avg prec: 0.964 avg rec: 0.911 avg f1: 0.928 avg acc: 0.961\n"
     ]
    }
   ],
   "source": [
    "from sklearn.mixture import DPGMM\n",
    "from sklearn.neighbors import KNeighborsClassifier\n",
    "from sklearn.naive_bayes import GaussianNB\n",
    "from sklearn.svm import SVC\n",
    "from sklearn.linear_model import LogisticRegression\n",
    "\n",
    "from sklearn.metrics import accuracy_score\n",
    "from sklearn.metrics import precision_recall_fscore_support\n",
    "import warnings\n",
    "\n",
    "warnings.filterwarnings(\"ignore\", category=DeprecationWarning)\n",
    "\n",
    "# print(KCV_list_of_users)\n",
    "ap=ar=af1=aacc=0\n",
    "\n",
    "\n",
    "\n",
    "#balanced K fold\n",
    "for fold in KCV_list_of_users_anon:\n",
    "    \n",
    "#     print((fold[0]))\n",
    "    fold=list(set(fold[0])),list(set(fold[1]))\n",
    "#     print(len(fold[0]),len(fold[1]))\n",
    "\n",
    "    X_train=np.array([user_to_topic_vectors[user] for user in fold[0]])\n",
    "#     print(type(fold[1]))\n",
    "    X_test=np.array([user_to_topic_vectors[user] for user in fold[1]])\n",
    "    Y_train=np.array([user_to_label_anon[user] for user in fold[0]])\n",
    "    Y_test=np.array([user_to_label_anon[user] for user in fold[1]])\n",
    "    \n",
    "#     print\n",
    "#     print(np.unique(Y_test,return_counts=True))\n",
    "#     X_train_embedded=tsne_model.fit_transform(X_train)\n",
    "    \n",
    "#     plt.scatter(X_train_embedded[:, 0], X_train_embedded[:, 1], c=Y_train, s=10, cmap='viridis')    \n",
    "#     plt.show()\n",
    "\n",
    "    neigh = KNeighborsClassifier(n_neighbors=1)\n",
    "#     print(fold[1])\n",
    "#     neigh = GaussianNB()\n",
    "\n",
    "#     neigh=SVC()\n",
    "#     print(X_train.shape)\n",
    "#     neigh=LogisticRegression()\n",
    "    neigh.fit(X_train[:,:], Y_train)\n",
    "    labels = neigh.predict(X_test[:,:])\n",
    "#     print(labels)\n",
    "    \n",
    "#     ctr=0\n",
    "    lens=[]\n",
    "    for i,label in enumerate(labels):\n",
    "        if label==0 and Y_test[i]==1:\n",
    "            #false negative\n",
    "            try:\n",
    "#                 print(len(retweet_timelines[(fold[1][i],'genuine')]))\n",
    "                lens.append(len(retweet_timelines[(fold[1][i],'genuine')]))\n",
    "#                 break\n",
    "            except Exception as e:\n",
    "#                 print(\"hh\")\n",
    "                pass\n",
    "#             ctr+=1\n",
    "#     print(np.sort(np.array(lens)))\n",
    "#     print(len(lens))\n",
    "#     exit\n",
    "#     print(ctr)\n",
    "#             print(retweet_timelines[fold[1][i]])\n",
    "            \n",
    "#     print (classification_report(Y_test,labels))\n",
    "    a=accuracy_score(Y_test,labels)\n",
    "    p,r,f1,_=precision_recall_fscore_support(Y_test,labels,average='macro')\n",
    "    # print(p,r,f1)\n",
    "    aacc+=a/len(KCV_list_of_users_anon)\n",
    "    ap+=p/len(KCV_list_of_users_anon)\n",
    "    ar+=r/len(KCV_list_of_users_anon)\n",
    "    af1+=f1/len(KCV_list_of_users_anon)\n",
    "print(\"avg prec:\",round(ap,3),\"avg rec:\",round(ar,3),\"avg f1:\",round(af1,3),\"avg acc:\",round(aacc,3))\n"
   ]
  },
  {
   "cell_type": "code",
   "execution_count": 11,
   "metadata": {},
   "outputs": [
    {
     "name": "stdout",
     "output_type": "stream",
     "text": [
      "0.28  &  0.302  &  0.288  & &  0.818  &  0.8  &  0.808\n"
     ]
    }
   ],
   "source": [
    "#imbalanced K fold\n",
    "# print(X.shape)\n",
    "# print(Y.shape)\n",
    "\n",
    "# import numpy as np\n",
    "X=X[:,-2:]\n",
    "# Y=Y\n",
    "from sklearn.model_selection import KFold\n",
    "n_splits=5\n",
    "kf = KFold(n_splits)\n",
    "kf.get_n_splits(X)\n",
    "\n",
    "# print(kf)  \n",
    "afp=agp=0\n",
    "afr=agr=0\n",
    "aff1=agf1=0\n",
    "\n",
    "for train_index, test_index in kf.split(X):\n",
    "    #    print(\"TRAIN:\", train_index, \"TEST:\", test_index)\n",
    "    X_train, X_test = X[train_index], X[test_index]\n",
    "    Y_train, Y_test = Y[train_index], Y[test_index]\n",
    "\n",
    "    neigh = KNeighborsClassifier(n_neighbors=1)\n",
    "    #     print(fold[1])\n",
    "#     neigh = GaussianNB()\n",
    "#     neigh=SVC()\n",
    "    #     print(X_train.shape)\n",
    "#     neigh=LogisticRegression()\n",
    "    neigh.fit(X_train, Y_train)\n",
    "    labels = neigh.predict(X_test)\n",
    "    \n",
    "#     print(classification_report(Y_test,labels))\n",
    "    c_str=classification_report(Y_test,labels)\n",
    "    f_str=c_str.split('\\n')[2].split()\n",
    "    g_str=c_str.split('\\n')[3].split()\n",
    "\n",
    "    fp=float(f_str[1])\n",
    "    fr=float(f_str[2])\n",
    "    ff1=float(f_str[3])\n",
    "\n",
    "\n",
    "    gp=float(g_str[1])\n",
    "    gr=float(g_str[2])\n",
    "    gf1=float(g_str[3])\n",
    "    \n",
    "    afp+=fp/n_splits\n",
    "    afr+=fr/n_splits\n",
    "    aff1+=ff1/n_splits\n",
    "    \n",
    "    agp+=gp/n_splits\n",
    "    agr+=gr/n_splits\n",
    "    agf1+=gf1/n_splits\n",
    "\n",
    "print(round(afp,3),\" & \",round(afr,3),\" & \",round(aff1,3),\" & & \",round(agp,3),\" & \",round(agr,3),\" & \",round(agf1,3))\n",
    "# print(agp,agr,agf1)\n",
    "   \n",
    "\n"
   ]
  },
  {
   "cell_type": "code",
   "execution_count": 12,
   "metadata": {},
   "outputs": [
    {
     "name": "stdout",
     "output_type": "stream",
     "text": [
      "0.34 0.35 0.34\n"
     ]
    }
   ],
   "source": [
    "c_str=classification_report(Y_test,labels)\n",
    "    \n",
    "f_str=c_str.split('\\n')[2].split()\n",
    "g_str=c_str.split('\\n')[3].split()\n",
    "\n",
    "fp=float(f_str[1])\n",
    "fr=float(f_str[2])\n",
    "ff1=float(f_str[3])\n",
    "\n",
    "\n",
    "gp=float(g_str[1])\n",
    "gr=float(g_str[2])\n",
    "gf1=float(g_str[3])\n",
    "\n",
    "print(fp,fr,ff1)\n",
    "\n",
    "    \n"
   ]
  },
  {
   "cell_type": "code",
   "execution_count": null,
   "metadata": {
    "collapsed": true
   },
   "outputs": [],
   "source": []
  },
  {
   "cell_type": "code",
   "execution_count": null,
   "metadata": {
    "collapsed": true
   },
   "outputs": [],
   "source": []
  },
  {
   "cell_type": "code",
   "execution_count": null,
   "metadata": {
    "collapsed": true
   },
   "outputs": [],
   "source": []
  },
  {
   "cell_type": "code",
   "execution_count": null,
   "metadata": {
    "collapsed": true
   },
   "outputs": [],
   "source": []
  },
  {
   "cell_type": "code",
   "execution_count": null,
   "metadata": {
    "collapsed": true
   },
   "outputs": [],
   "source": []
  },
  {
   "cell_type": "code",
   "execution_count": null,
   "metadata": {
    "collapsed": true
   },
   "outputs": [],
   "source": []
  },
  {
   "cell_type": "code",
   "execution_count": null,
   "metadata": {
    "collapsed": true
   },
   "outputs": [],
   "source": []
  },
  {
   "cell_type": "code",
   "execution_count": null,
   "metadata": {
    "collapsed": true
   },
   "outputs": [],
   "source": []
  },
  {
   "cell_type": "code",
   "execution_count": null,
   "metadata": {
    "collapsed": true
   },
   "outputs": [],
   "source": []
  },
  {
   "cell_type": "code",
   "execution_count": null,
   "metadata": {
    "collapsed": true
   },
   "outputs": [],
   "source": []
  },
  {
   "cell_type": "code",
   "execution_count": null,
   "metadata": {
    "collapsed": true
   },
   "outputs": [],
   "source": []
  },
  {
   "cell_type": "code",
   "execution_count": null,
   "metadata": {
    "collapsed": true
   },
   "outputs": [],
   "source": []
  },
  {
   "cell_type": "code",
   "execution_count": null,
   "metadata": {
    "collapsed": true
   },
   "outputs": [],
   "source": []
  },
  {
   "cell_type": "code",
   "execution_count": null,
   "metadata": {
    "collapsed": true
   },
   "outputs": [],
   "source": []
  },
  {
   "cell_type": "code",
   "execution_count": null,
   "metadata": {
    "collapsed": true
   },
   "outputs": [],
   "source": []
  },
  {
   "cell_type": "code",
   "execution_count": null,
   "metadata": {
    "collapsed": true
   },
   "outputs": [],
   "source": []
  },
  {
   "cell_type": "code",
   "execution_count": null,
   "metadata": {
    "collapsed": true
   },
   "outputs": [],
   "source": []
  },
  {
   "cell_type": "code",
   "execution_count": null,
   "metadata": {
    "collapsed": true
   },
   "outputs": [],
   "source": []
  },
  {
   "cell_type": "code",
   "execution_count": null,
   "metadata": {
    "collapsed": true
   },
   "outputs": [],
   "source": []
  }
 ],
 "metadata": {
  "kernelspec": {
   "display_name": "Python 3",
   "language": "python",
   "name": "python3"
  },
  "language_info": {
   "codemirror_mode": {
    "name": "ipython",
    "version": 3
   },
   "file_extension": ".py",
   "mimetype": "text/x-python",
   "name": "python",
   "nbconvert_exporter": "python",
   "pygments_lexer": "ipython3",
   "version": "3.5.2"
  }
 },
 "nbformat": 4,
 "nbformat_minor": 2
}
